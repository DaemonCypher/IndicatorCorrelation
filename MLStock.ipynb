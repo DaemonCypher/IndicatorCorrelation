{
  "nbformat": 4,
  "nbformat_minor": 0,
  "metadata": {
    "colab": {
      "provenance": []
    },
    "kernelspec": {
      "name": "python3",
      "display_name": "Python 3"
    },
    "language_info": {
      "name": "python"
    }
  },
  "cells": [
    {
      "cell_type": "code",
      "source": [
        "!pip install pandas-ta dcor pingouin\n"
      ],
      "metadata": {
        "id": "1mG2GUwlhFDC"
      },
      "execution_count": null,
      "outputs": []
    },
    {
      "cell_type": "code",
      "execution_count": 57,
      "metadata": {
        "id": "PNqWdXuhdLtT"
      },
      "outputs": [],
      "source": [
        "import yfinance as yf\n",
        "import plotly.graph_objects as go\n",
        "import plotly.express as px\n",
        "from plotly.subplots import make_subplots\n",
        "import pandas as pd\n",
        "import pandas_ta as ta\n",
        "import dcor\n",
        "import tensorflow as tf\n",
        "from sklearn.preprocessing import MinMaxScaler\n",
        "from tensorflow.keras.models import Sequential\n",
        "from tensorflow.keras.layers import LSTM, Dense, Dropout\n",
        "import numpy as np\n",
        "import pingouin as pg\n",
        "from sklearn.preprocessing import StandardScaler\n",
        "from sklearn.ensemble import RandomForestClassifier\n",
        "from sklearn.model_selection import train_test_split\n",
        "from sklearn.metrics import classification_report\n"
      ]
    },
    {
      "cell_type": "code",
      "source": [
        "ticker=\"AAPL\"\n",
        "stock = yf.Ticker(ticker)\n",
        "\n",
        "# get historical market data\n",
        "df = stock.history(period=\"max\")\n",
        "df.drop(['Dividends', 'Stock Splits'], axis=1, inplace=True)\n",
        "# Create a Date column\n",
        "df['Date'] = df.index\n",
        "# Drop the Date as index\n",
        "df.reset_index(drop=True, inplace=True)\n",
        "\n",
        "# DF currently has open, high, low, close, volume, date columns,\n"
      ],
      "metadata": {
        "id": "s9a1meWShSF8"
      },
      "execution_count": 114,
      "outputs": []
    },
    {
      "cell_type": "code",
      "source": [
        "df['RSI14'] = ta.rsi(df['Close'], length=14)\n",
        "df['RSI6'] = ta.rsi(df['Close'], length=6)\n",
        "df['RSI24'] = ta.rsi(df['Close'], length=24)\n",
        "\n",
        "macd = ta.macd(df['Close'])\n",
        "df = pd.concat([df, macd], axis=1)\n",
        "\n",
        "df['EMA5'] = ta.ema(df['Close'], length=5)\n",
        "df['EMA10'] = ta.ema(df['Close'], length=10)\n",
        "df['EMA20'] = ta.ema(df['Close'], length=20)\n",
        "df['EMA100'] = ta.ema(df['Close'], length=100)\n",
        "\n",
        "supertrend = ta.supertrend(df['High'], df['Low'], df['Close'], length=10, multiplier=3)\n",
        "df = pd.concat([df, supertrend], axis=1)\n",
        "\n",
        "\n",
        "# create columns for rsi, macd, ema, supertrend"
      ],
      "metadata": {
        "id": "jJZpMOJXit0p"
      },
      "execution_count": 115,
      "outputs": []
    },
    {
      "cell_type": "code",
      "source": [
        "\n",
        "# removing all empty dates\n",
        "# build complete timeline from start date to end date\n",
        "dt_all = pd.date_range(start=df.index[0],end=df.index[-1])\n",
        "# retrieve the dates that are in the original datset\n",
        "dt_obs = [d.strftime(\"%Y-%m-%d\") for d in pd.to_datetime(df.index)]\n",
        "# define dates with missing values\n",
        "dt_breaks = [d for d in dt_all.strftime(\"%Y-%m-%d\").tolist() if not d in dt_obs]"
      ],
      "metadata": {
        "id": "ohWHdPFPhfZP"
      },
      "execution_count": 116,
      "outputs": []
    },
    {
      "cell_type": "code",
      "source": [
        "df.drop(['SUPERTs_10_3.0','SUPERTl_10_3.0'], axis = 1, inplace=True)\n"
      ],
      "metadata": {
        "id": "gscQVtZ4cqUm"
      },
      "execution_count": 117,
      "outputs": []
    },
    {
      "cell_type": "markdown",
      "source": [
        "Kendall Tau Correlation: Another non-parametric correlation measure, the Kendall Tau correlation coefficient, evaluates the strength and direction of association between two ranked variables. It's particularly useful when the data set is small, and it's less sensitive to errors in the data compared to Pearson and Spearman.\n",
        "\n",
        "Distance Correlation: This measure assesses both linear and non-linear associations between two random variables or datasets. Unlike Pearson, which can only capture linear relationships, distance correlation is capable of detecting more complex relationships.\n",
        "\n",
        "Partial Correlation: This measures the degree of association between two variables, with the effect of a set of controlling random variables removed. It's useful when you want to find the correlation between two variables while controlling for the effect of one or more other variables.\n",
        "\n",
        "Pearson correlation coefficient is a correlation coefficient that measures linear correlation between two sets of data. It is the ratio between the covariance of two variables and the product of their standard deviations; thus, it is essentially a normalized measurement of the covariance, such that the result always has a value between −1 and 1. As with covariance itself, the measure can only reflect a linear correlation of variables, and ignores many other types of relationships or correlations."
      ],
      "metadata": {
        "id": "2FoPFBkegFi_"
      }
    },
    {
      "cell_type": "markdown",
      "source": [
        "Pearson correlation between indicators"
      ],
      "metadata": {
        "id": "xjLD_MbPe-Hs"
      }
    },
    {
      "cell_type": "code",
      "source": [
        "features = ['Close', 'RSI14', 'RSI6', 'RSI24', 'MACD_12_26_9', 'EMA5', 'EMA10', 'EMA20', 'EMA100', 'SUPERT_10_3.0']\n",
        "\n",
        "df = df.iloc[100:]\n",
        "nan_in_df = df.isna().sum()\n",
        "\n",
        "# Calculating the correlation matrix\n",
        "pcc = df[features].corr()\n",
        "\n",
        "\n",
        "# Extracting the correlations of all indicators with the 'Close' price\n",
        "pcc = pcc['Close'].sort_values(ascending=False)\n",
        "\n",
        "# Display the correlation values\n",
        "print(pcc)\n",
        "\n"
      ],
      "metadata": {
        "colab": {
          "base_uri": "https://localhost:8080/"
        },
        "id": "3_xagQn7rF4T",
        "outputId": "781dc92a-411f-4109-f4ba-9765ec1c7173"
      },
      "execution_count": 129,
      "outputs": [
        {
          "output_type": "stream",
          "name": "stdout",
          "text": [
            "Open                0\n",
            "High                0\n",
            "Low                 0\n",
            "Close               0\n",
            "Volume              0\n",
            "Date                0\n",
            "RSI14               0\n",
            "RSI6                0\n",
            "RSI24               0\n",
            "MACD_12_26_9        0\n",
            "MACDh_12_26_9       0\n",
            "MACDs_12_26_9       0\n",
            "EMA5                0\n",
            "EMA10               0\n",
            "EMA20               0\n",
            "EMA100              0\n",
            "SUPERT_10_3.0       0\n",
            "SUPERTd_10_3.0      0\n",
            "Min_5day            0\n",
            "Max_5day            0\n",
            "Movement_Label      0\n",
            "Price_Difference    0\n",
            "Label               0\n",
            "dtype: int64\n",
            "Close            1.000000\n",
            "EMA5             0.999852\n",
            "EMA10            0.999633\n",
            "EMA20            0.999200\n",
            "SUPERT_10_3.0    0.997696\n",
            "EMA100           0.996609\n",
            "MACD_12_26_9     0.305459\n",
            "RSI24            0.095733\n",
            "RSI14            0.084348\n",
            "RSI6             0.065776\n",
            "Name: Close, dtype: float64\n"
          ]
        }
      ]
    },
    {
      "cell_type": "markdown",
      "source": [
        "Kendal correlation between indicators"
      ],
      "metadata": {
        "id": "UpubrOwtfDZO"
      }
    },
    {
      "cell_type": "code",
      "source": [
        "kendall = df[features].corr(method='kendall')\n",
        "kendall = kendall['Close'].sort_values(ascending=False)\n",
        "print(kendall)\n"
      ],
      "metadata": {
        "id": "RqqYSpbnb4JL"
      },
      "execution_count": null,
      "outputs": []
    },
    {
      "cell_type": "markdown",
      "source": [
        "Distance correlation between indicators"
      ],
      "metadata": {
        "id": "Ua-TLJBEfGhD"
      }
    },
    {
      "cell_type": "code",
      "source": [
        "\n",
        "distance_correlations = {}\n",
        "\n",
        "# Calculate distance correlation for each feature with 'Close'\n",
        "for feature in features:\n",
        "    if feature != 'Close':\n",
        "        distance_corr = dcor.distance_correlation(df['Close'], df[feature])\n",
        "        distance_correlations[feature] = distance_corr\n",
        "\n",
        "# Sort the dictionary by correlation value\n",
        "sorted_distance_correlations = dict(sorted(distance_correlations.items(), key=lambda item: item[1], reverse=True))\n",
        "\n",
        "# Display the distance correlation values\n",
        "print(sorted_distance_correlations)"
      ],
      "metadata": {
        "id": "nKfH5fUDdy1c"
      },
      "execution_count": null,
      "outputs": []
    },
    {
      "cell_type": "code",
      "source": [
        "\n",
        "partial = pd.DataFrame(columns=['Variable', 'Partial Correlation'])\n",
        "\n",
        "# Calculate partial correlation for each feature with 'Close', controlling for the other features\n",
        "for feature in features:\n",
        "    if feature != 'Close':\n",
        "        # Remaining features to control for\n",
        "        control_features = [f for f in features if f not in ['Close', feature]]\n",
        "        # Calculate partial correlation\n",
        "        pcorr = pg.partial_corr(data=df, x='Close', y=feature, covar=control_features)\n",
        "        partial = pd.concat([partial, pd.DataFrame({'Variable': [feature], 'Partial Correlation': [pcorr['r'].values[0]]})], ignore_index=True)\n",
        "\n",
        "# Sort the DataFrame by correlation value\n",
        "partial = partial.sort_values(by='Partial Correlation', ascending=False)\n",
        "\n",
        "# Display the partial correlation values\n",
        "print(partial)"
      ],
      "metadata": {
        "id": "U1HRZbuOfLFV"
      },
      "execution_count": null,
      "outputs": []
    },
    {
      "cell_type": "code",
      "source": [
        "def label_movement(row, pct_threshold=3):\n",
        "    min_price = row['Min_5day']\n",
        "    max_price = row['Max_5day']\n",
        "    close_price = row['Close']\n",
        "\n",
        "    # Calculate percentage change\n",
        "    upper_bound = close_price * (1 + pct_threshold / 100)\n",
        "    lower_bound = close_price * (1 - pct_threshold / 100)\n",
        "\n",
        "    if max_price <= upper_bound and min_price >= lower_bound:\n",
        "        return 0  # Sideways\n",
        "    elif max_price > upper_bound:\n",
        "        return 1  # Up\n",
        "    else:\n",
        "        return -1  # Down\n",
        "\n",
        "# Calculate rolling min and max\n",
        "df['Min_5day'] = df['Close'].rolling(window=5).min()\n",
        "df['Max_5day'] = df['Close'].rolling(window=5).max()\n",
        "\n",
        "# Apply the label function\n",
        "df['Movement_Label'] = df.apply(label_movement, axis=1)\n",
        "\n",
        "# Drop the first 4 rows as they don't have complete 5-day windows\n",
        "df = df.iloc[4:]\n"
      ],
      "metadata": {
        "id": "qh2-kTUO0kkk"
      },
      "execution_count": 122,
      "outputs": []
    },
    {
      "cell_type": "code",
      "source": [
        "threshold = 0.01  # Threshold to define 'sideways' movement\n",
        "\n",
        "df['Price_Difference'] = df['Close'].diff()\n",
        "df['Label'] = df['Price_Difference'].apply(lambda x: 1 if x > threshold else (-1 if x < -threshold else 0))\n",
        "\n",
        "\n",
        "features = ['Open', 'High', 'Low', 'Close', 'Volume', 'Capital Gains',\n",
        "       'RSI14', 'RSI6', 'RSI24', 'MACD_12_26_9', 'MACDh_12_26_9',\n",
        "       'MACDs_12_26_9', 'EMA5', 'EMA10', 'EMA20', 'EMA100', 'SUPERT_10_3.0',\n",
        "       'SUPERTd_10_3.0','Min_5day', 'Max_5day','Movement_Label']\n",
        "\n",
        "\n",
        "df.dropna(subset=features + ['Label'], inplace=True)\n",
        "\n",
        "# Normalize features\n",
        "scaler = StandardScaler()\n",
        "df[features] = scaler.fit_transform(df[features])\n"
      ],
      "metadata": {
        "id": "Dixtyn8uwh5o"
      },
      "execution_count": 124,
      "outputs": []
    },
    {
      "cell_type": "code",
      "source": [
        "model = RandomForestClassifier(n_estimators=100, random_state=42)"
      ],
      "metadata": {
        "id": "iiNkt2eSnFnq"
      },
      "execution_count": 125,
      "outputs": []
    },
    {
      "cell_type": "code",
      "source": [
        "\n",
        "X = df[features]\n",
        "y = df['Label']\n",
        "\n",
        "X_train, X_test, y_train, y_test = train_test_split(X, y, test_size=0.3, random_state=42)\n",
        "\n",
        "model.fit(X_train, y_train)\n"
      ],
      "metadata": {
        "colab": {
          "base_uri": "https://localhost:8080/",
          "height": 75
        },
        "id": "-X1j7MrzsK3o",
        "outputId": "be675c24-3f4d-4896-8a34-194dbfae4d32"
      },
      "execution_count": 126,
      "outputs": [
        {
          "output_type": "execute_result",
          "data": {
            "text/plain": [
              "RandomForestClassifier(random_state=42)"
            ],
            "text/html": [
              "<style>#sk-container-id-7 {color: black;background-color: white;}#sk-container-id-7 pre{padding: 0;}#sk-container-id-7 div.sk-toggleable {background-color: white;}#sk-container-id-7 label.sk-toggleable__label {cursor: pointer;display: block;width: 100%;margin-bottom: 0;padding: 0.3em;box-sizing: border-box;text-align: center;}#sk-container-id-7 label.sk-toggleable__label-arrow:before {content: \"▸\";float: left;margin-right: 0.25em;color: #696969;}#sk-container-id-7 label.sk-toggleable__label-arrow:hover:before {color: black;}#sk-container-id-7 div.sk-estimator:hover label.sk-toggleable__label-arrow:before {color: black;}#sk-container-id-7 div.sk-toggleable__content {max-height: 0;max-width: 0;overflow: hidden;text-align: left;background-color: #f0f8ff;}#sk-container-id-7 div.sk-toggleable__content pre {margin: 0.2em;color: black;border-radius: 0.25em;background-color: #f0f8ff;}#sk-container-id-7 input.sk-toggleable__control:checked~div.sk-toggleable__content {max-height: 200px;max-width: 100%;overflow: auto;}#sk-container-id-7 input.sk-toggleable__control:checked~label.sk-toggleable__label-arrow:before {content: \"▾\";}#sk-container-id-7 div.sk-estimator input.sk-toggleable__control:checked~label.sk-toggleable__label {background-color: #d4ebff;}#sk-container-id-7 div.sk-label input.sk-toggleable__control:checked~label.sk-toggleable__label {background-color: #d4ebff;}#sk-container-id-7 input.sk-hidden--visually {border: 0;clip: rect(1px 1px 1px 1px);clip: rect(1px, 1px, 1px, 1px);height: 1px;margin: -1px;overflow: hidden;padding: 0;position: absolute;width: 1px;}#sk-container-id-7 div.sk-estimator {font-family: monospace;background-color: #f0f8ff;border: 1px dotted black;border-radius: 0.25em;box-sizing: border-box;margin-bottom: 0.5em;}#sk-container-id-7 div.sk-estimator:hover {background-color: #d4ebff;}#sk-container-id-7 div.sk-parallel-item::after {content: \"\";width: 100%;border-bottom: 1px solid gray;flex-grow: 1;}#sk-container-id-7 div.sk-label:hover label.sk-toggleable__label {background-color: #d4ebff;}#sk-container-id-7 div.sk-serial::before {content: \"\";position: absolute;border-left: 1px solid gray;box-sizing: border-box;top: 0;bottom: 0;left: 50%;z-index: 0;}#sk-container-id-7 div.sk-serial {display: flex;flex-direction: column;align-items: center;background-color: white;padding-right: 0.2em;padding-left: 0.2em;position: relative;}#sk-container-id-7 div.sk-item {position: relative;z-index: 1;}#sk-container-id-7 div.sk-parallel {display: flex;align-items: stretch;justify-content: center;background-color: white;position: relative;}#sk-container-id-7 div.sk-item::before, #sk-container-id-7 div.sk-parallel-item::before {content: \"\";position: absolute;border-left: 1px solid gray;box-sizing: border-box;top: 0;bottom: 0;left: 50%;z-index: -1;}#sk-container-id-7 div.sk-parallel-item {display: flex;flex-direction: column;z-index: 1;position: relative;background-color: white;}#sk-container-id-7 div.sk-parallel-item:first-child::after {align-self: flex-end;width: 50%;}#sk-container-id-7 div.sk-parallel-item:last-child::after {align-self: flex-start;width: 50%;}#sk-container-id-7 div.sk-parallel-item:only-child::after {width: 0;}#sk-container-id-7 div.sk-dashed-wrapped {border: 1px dashed gray;margin: 0 0.4em 0.5em 0.4em;box-sizing: border-box;padding-bottom: 0.4em;background-color: white;}#sk-container-id-7 div.sk-label label {font-family: monospace;font-weight: bold;display: inline-block;line-height: 1.2em;}#sk-container-id-7 div.sk-label-container {text-align: center;}#sk-container-id-7 div.sk-container {/* jupyter's `normalize.less` sets `[hidden] { display: none; }` but bootstrap.min.css set `[hidden] { display: none !important; }` so we also need the `!important` here to be able to override the default hidden behavior on the sphinx rendered scikit-learn.org. See: https://github.com/scikit-learn/scikit-learn/issues/21755 */display: inline-block !important;position: relative;}#sk-container-id-7 div.sk-text-repr-fallback {display: none;}</style><div id=\"sk-container-id-7\" class=\"sk-top-container\"><div class=\"sk-text-repr-fallback\"><pre>RandomForestClassifier(random_state=42)</pre><b>In a Jupyter environment, please rerun this cell to show the HTML representation or trust the notebook. <br />On GitHub, the HTML representation is unable to render, please try loading this page with nbviewer.org.</b></div><div class=\"sk-container\" hidden><div class=\"sk-item\"><div class=\"sk-estimator sk-toggleable\"><input class=\"sk-toggleable__control sk-hidden--visually\" id=\"sk-estimator-id-7\" type=\"checkbox\" checked><label for=\"sk-estimator-id-7\" class=\"sk-toggleable__label sk-toggleable__label-arrow\">RandomForestClassifier</label><div class=\"sk-toggleable__content\"><pre>RandomForestClassifier(random_state=42)</pre></div></div></div></div></div>"
            ]
          },
          "metadata": {},
          "execution_count": 126
        }
      ]
    },
    {
      "cell_type": "code",
      "source": [
        "\n",
        "y_pred = model.predict(X_test)\n",
        "print(classification_report(y_test, y_pred))\n"
      ],
      "metadata": {
        "colab": {
          "base_uri": "https://localhost:8080/"
        },
        "id": "yDIIbJdHrdpb",
        "outputId": "80004c13-827c-4ff5-8882-ba7fc9aad540"
      },
      "execution_count": 128,
      "outputs": [
        {
          "output_type": "stream",
          "name": "stdout",
          "text": [
            "              precision    recall  f1-score   support\n",
            "\n",
            "          -1       0.65      0.63      0.64       737\n",
            "           0       0.86      0.92      0.89      1578\n",
            "           1       0.73      0.66      0.69       907\n",
            "\n",
            "    accuracy                           0.78      3222\n",
            "   macro avg       0.75      0.74      0.74      3222\n",
            "weighted avg       0.78      0.78      0.78      3222\n",
            "\n"
          ]
        }
      ]
    }
  ]
}